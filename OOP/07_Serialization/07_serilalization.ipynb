{
 "cells": [
  {
   "cell_type": "code",
   "execution_count": 5,
   "metadata": {},
   "outputs": [],
   "source": [
    "import pickle\n",
    "\n",
    "mylist = ['a', 'b', 'c', 'd']\n",
    "\n",
    "with open('datafile.txt', 'wb') as fh:\n",
    "    pickle.dump(mylist, fh)\n"
   ]
  },
  {
   "cell_type": "code",
   "execution_count": 9,
   "metadata": {},
   "outputs": [
    {
     "name": "stdout",
     "output_type": "stream",
     "text": [
      "['a', 'b', 'c', 'd']\n",
      "<class 'list'>\n"
     ]
    }
   ],
   "source": [
    "import pickle\n",
    "\n",
    "#mylist = ['a', 'b', 'c', 'd']\n",
    "\n",
    "with open('datafile.txt', 'rb') as fh:\n",
    "    unpickledlist = pickle.load(fh)\n",
    "    \n",
    "print(unpickledlist)\n",
    "print(type(unpickledlist ))"
   ]
  },
  {
   "cell_type": "code",
   "execution_count": 11,
   "metadata": {},
   "outputs": [
    {
     "name": "stdout",
     "output_type": "stream",
     "text": [
      "['a', 'b', 1, 2.3]\n",
      "<class 'list'>\n",
      "b'\\x80\\x03]q\\x00(X\\x01\\x00\\x00\\x00aq\\x01X\\x01\\x00\\x00\\x00bq\\x02K\\x01G@\\x02ffffffe.'\n",
      "<class 'bytes'>\n"
     ]
    }
   ],
   "source": [
    "import pickle\n",
    "\n",
    "x = pickle.dumps(['a', 'b', 1, 2.3])\n",
    "\n",
    "var = pickle.loads(x)\n",
    "\n",
    "print(var)\n",
    "print(type(var))\n",
    "print(x)\n",
    "print(type(x))"
   ]
  },
  {
   "cell_type": "code",
   "execution_count": null,
   "metadata": {},
   "outputs": [],
   "source": []
  }
 ],
 "metadata": {
  "kernelspec": {
   "display_name": "Python 3",
   "language": "python",
   "name": "python3"
  },
  "language_info": {
   "codemirror_mode": {
    "name": "ipython",
    "version": 3
   },
   "file_extension": ".py",
   "mimetype": "text/x-python",
   "name": "python",
   "nbconvert_exporter": "python",
   "pygments_lexer": "ipython3",
   "version": "3.7.6"
  }
 },
 "nbformat": 4,
 "nbformat_minor": 4
}
