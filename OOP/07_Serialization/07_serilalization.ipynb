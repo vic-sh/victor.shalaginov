{
 "cells": [
  {
   "cell_type": "code",
   "execution_count": 5,
   "metadata": {},
   "outputs": [],
   "source": [
    "import pickle\n",
    "\n",
    "mylist = ['a', 'b', 'c', 'd']\n",
    "\n",
    "with open('datafile.txt', 'wb') as fh:\n",
    "    pickle.dump(mylist, fh)\n"
   ]
  },
  {
   "cell_type": "code",
   "execution_count": 9,
   "metadata": {},
   "outputs": [
    {
     "name": "stdout",
     "output_type": "stream",
     "text": [
      "['a', 'b', 'c', 'd']\n",
      "<class 'list'>\n"
     ]
    }
   ],
   "source": [
    "import pickle\n",
    "\n",
    "#mylist = ['a', 'b', 'c', 'd']\n",
    "\n",
    "with open('datafile.txt', 'rb') as fh:\n",
    "    unpickledlist = pickle.load(fh)\n",
    "    \n",
    "print(unpickledlist)\n",
    "print(type(unpickledlist ))"
   ]
  },
  {
   "cell_type": "code",
   "execution_count": 11,
   "metadata": {},
   "outputs": [
    {
     "name": "stdout",
     "output_type": "stream",
     "text": [
      "['a', 'b', 1, 2.3]\n",
      "<class 'list'>\n",
      "b'\\x80\\x03]q\\x00(X\\x01\\x00\\x00\\x00aq\\x01X\\x01\\x00\\x00\\x00bq\\x02K\\x01G@\\x02ffffffe.'\n",
      "<class 'bytes'>\n"
     ]
    }
   ],
   "source": [
    "import pickle\n",
    "\n",
    "x = pickle.dumps(['a', 'b', 1, 2.3])\n",
    "\n",
    "var = pickle.loads(x)\n",
    "\n",
    "print(var)\n",
    "print(type(var))\n",
    "print(x)\n",
    "print(type(x))"
   ]
  },
  {
   "cell_type": "code",
   "execution_count": 14,
   "metadata": {},
   "outputs": [
    {
     "name": "stdout",
     "output_type": "stream",
     "text": [
      "<__main__.MyClass object at 0x1042a16d0>\n",
      "7\n"
     ]
    }
   ],
   "source": [
    "import pickle\n",
    "\n",
    "class MyClass(object):\n",
    "    def __init__(self, init_val):\n",
    "        self.val = init_val\n",
    "    def increment(self):\n",
    "        self.val += 1\n",
    "\n",
    "cc = MyClass(5)\n",
    "cc.increment()\n",
    "cc.increment()\n",
    "\n",
    "with open('datafile.txt', 'wb') as fh:\n",
    "    pickle.dump(cc, fh)\n",
    "\n",
    "with open('datafile.txt', 'rb') as fh:\n",
    "    unpickled_cc = pickle.load(fh)\n",
    "\n",
    "print(unpickled_cc)\n",
    "print(unpickled_cc.val)"
   ]
  },
  {
   "cell_type": "code",
   "execution_count": 15,
   "metadata": {},
   "outputs": [
    {
     "name": "stdout",
     "output_type": "stream",
     "text": [
      "<__main__.MyClass object at 0x1049ca190>\n",
      "7\n"
     ]
    }
   ],
   "source": [
    "import pickle\n",
    "'''\n",
    "class MyClass(object):\n",
    "    def __init__(self, init_val):\n",
    "        self.val = init_val\n",
    "    def increment(self):\n",
    "        self.val += 1\n",
    "\n",
    "cc = MyClass(5)\n",
    "cc.increment()\n",
    "cc.increment()\n",
    "\n",
    "with open('datafile.txt', 'wb') as fh:\n",
    "    pickle.dump(cc, fh)\n",
    "'''\n",
    "with open('datafile.txt', 'rb') as fh:\n",
    "    unpickled_cc = pickle.load(fh)\n",
    "\n",
    "print(unpickled_cc)\n",
    "print(unpickled_cc.val)"
   ]
  },
  {
   "cell_type": "code",
   "execution_count": 17,
   "metadata": {},
   "outputs": [
    {
     "name": "stdout",
     "output_type": "stream",
     "text": [
      "{'newkey2': 2.0002, 'newkey': 5.0005}\n"
     ]
    }
   ],
   "source": [
    "import json\n",
    "\n",
    "with open('data.json', \"r\") as jf:\n",
    "    conf = json.load(jf)\n",
    "conf['newkey'] = 5.0005\n",
    "\n",
    "with open('data.json', 'w') as jf:\n",
    "    json.dump(conf, jf)\n",
    "\n",
    "print(conf)"
   ]
  },
  {
   "cell_type": "code",
   "execution_count": 18,
   "metadata": {},
   "outputs": [
    {
     "name": "stdout",
     "output_type": "stream",
     "text": [
      "{'newkey2': 2.0002, 'newkey': 5.0005, 'newkey3': 3.0003}\n"
     ]
    }
   ],
   "source": [
    "import json\n",
    "\n",
    "with open('data.json', \"r\") as jf:\n",
    "    conf = json.load(jf)\n",
    "conf['newkey3'] = 3.0003\n",
    "\n",
    "with open('data.json', 'w') as jf:\n",
    "    json.dump(conf, jf, indent=4, separators=(',', ': '))\n",
    "\n",
    "print(conf)"
   ]
  },
  {
   "cell_type": "code",
   "execution_count": null,
   "metadata": {},
   "outputs": [],
   "source": []
  }
 ],
 "metadata": {
  "kernelspec": {
   "display_name": "Python 3",
   "language": "python",
   "name": "python3"
  },
  "language_info": {
   "codemirror_mode": {
    "name": "ipython",
    "version": 3
   },
   "file_extension": ".py",
   "mimetype": "text/x-python",
   "name": "python",
   "nbconvert_exporter": "python",
   "pygments_lexer": "ipython3",
   "version": "3.7.6"
  }
 },
 "nbformat": 4,
 "nbformat_minor": 4
}
