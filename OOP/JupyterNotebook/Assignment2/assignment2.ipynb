{
 "cells": [
  {
   "cell_type": "code",
   "execution_count": 64,
   "metadata": {},
   "outputs": [],
   "source": [
    "#assignment2\n",
    "import datetime\n",
    "class WriteFile(object):\n",
    "    def write(self, file_name, log_message):\n",
    "        with open(file_name, \"a\") as file:\n",
    "            file.write(log_message + '\\n')      \n",
    "class LogFile(WriteFile):\n",
    "    def __init__(self, filename):\n",
    "        self.file_to_write = filename\n",
    "    def write(self, string_to_log):\n",
    "        dt_str = datetime.datetime.now().strftime('%Y-%m-%d %H:%M   ')\n",
    "        log_to_write = dt_str + string_to_log\n",
    "        super(LogFile,self).write(self.file_to_write, log_to_write)        \n",
    "class DelimFile(WriteFile):\n",
    "    def __init__(self, filename, separator):\n",
    "        self.file_to_write = filename\n",
    "        self.delimeter = separator   \n",
    "    def write(self, list_to_csv):\n",
    "        string_to_write = ''\n",
    "        for element in list_to_csv:\n",
    "            string_to_write = string_to_write + element + self.delimeter\n",
    "        super(DelimFile, self).write(self.file_to_write, string_to_write[:-1])\n",
    "\n",
    "log = LogFile('log.txt')\n",
    "csv = DelimFile('text.csv', ',')\n",
    "\n",
    "log.write('this is a log')\n",
    "log.write('log logl log')\n",
    "\n",
    "csv.write(['a','b','c','d'])\n",
    "csv.write(['1','2','3','4'])"
   ]
  },
  {
   "cell_type": "code",
   "execution_count": 72,
   "metadata": {},
   "outputs": [],
   "source": [
    "#assignment2_ec\n",
    "import datetime\n",
    "class WriteFile(object):\n",
    "    def write(self, file_name, log_message):\n",
    "        with open(file_name, \"a\") as file:\n",
    "            file.write(log_message + '\\n')      \n",
    "class LogFile(WriteFile):\n",
    "    def __init__(self, filename):\n",
    "        self.file_to_write = filename\n",
    "    def write(self, string_to_log):\n",
    "        dt_str = datetime.datetime.now().strftime('%Y-%m-%d %H:%M   ')\n",
    "        log_to_write = dt_str + string_to_log\n",
    "        super(LogFile,self).write(self.file_to_write, log_to_write)        \n",
    "class DelimFile(WriteFile):\n",
    "    def __init__(self, filename, separator):\n",
    "        self.file_to_write = filename\n",
    "        self.delimeter = separator   \n",
    "    def write(self, list_to_csv):\n",
    "        string_to_write = ''\n",
    "        for element in list_to_csv:\n",
    "            if self.delimeter in element:\n",
    "                element = '\"' + element + '\"'\n",
    "            string_to_write = string_to_write + element + self.delimeter\n",
    "        super(DelimFile, self).write(self.file_to_write, string_to_write[:-1])\n",
    "\n",
    "log = LogFile('log_ec.txt')\n",
    "csv = DelimFile('text_ec.csv', ',')\n",
    "\n",
    "log.write('this is a log2')\n",
    "log.write('log logl log2')\n",
    "\n",
    "csv.write(['a','b,2','c','d'])\n",
    "csv.write(['1','2','3','4'])"
   ]
  },
  {
   "cell_type": "code",
   "execution_count": null,
   "metadata": {},
   "outputs": [],
   "source": []
  }
 ],
 "metadata": {
  "kernelspec": {
   "display_name": "Python 3",
   "language": "python",
   "name": "python3"
  },
  "language_info": {
   "codemirror_mode": {
    "name": "ipython",
    "version": 3
   },
   "file_extension": ".py",
   "mimetype": "text/x-python",
   "name": "python",
   "nbconvert_exporter": "python",
   "pygments_lexer": "ipython3",
   "version": "3.7.6"
  }
 },
 "nbformat": 4,
 "nbformat_minor": 4
}
