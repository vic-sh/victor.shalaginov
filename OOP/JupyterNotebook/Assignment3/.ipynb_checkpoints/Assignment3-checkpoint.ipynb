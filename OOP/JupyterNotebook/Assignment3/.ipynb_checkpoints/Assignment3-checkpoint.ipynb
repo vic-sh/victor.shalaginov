{
 "cells": [
  {
   "cell_type": "code",
   "execution_count": 46,
   "metadata": {},
   "outputs": [
    {
     "name": "stdout",
     "output_type": "stream",
     "text": [
      "value1\n",
      "{'key1': 'value1', 'otherkey2': 'othervalue2', 'database': 'mysql'}\n"
     ]
    }
   ],
   "source": [
    "class ConfigDict(dict):\n",
    "    def __init__(self, file_to_open):\n",
    "        self.file_to_open = file_to_open\n",
    "        with open(file_to_open) as fto:\n",
    "            for line in fto:\n",
    "                key = line.split('=', 1)[0]  #1 in split guarantees that the first equal sign will be used\n",
    "                val = line.split('=', 1)[1].strip()\n",
    "                dict.__setitem__(self, key, val)          \n",
    "    def __setitem__(self, key, val):\n",
    "        dict.__setitem__(self, key, val)\n",
    "        with open(self.file_to_open, 'r') as fto:\n",
    "            ftw = fto.readlines()\n",
    "            ftw.append('\\n'+key+'='+val)\n",
    "        with open(self.file_to_open, 'w') as fto:\n",
    "            fto.writelines(ftw)\n",
    "        \n",
    "cd = ConfigDict('config.txt')\n",
    "print(cd['key1'])\n",
    "cd['database'] = 'mysql'\n",
    "print(cd)"
   ]
  },
  {
   "cell_type": "code",
   "execution_count": 49,
   "metadata": {},
   "outputs": [
    {
     "name": "stdout",
     "output_type": "stream",
     "text": [
      "writing data:  -f, /Users/vict0r/Library/Jupyter/runtime/kernel-34156b98-31a7-4116-b8c5-e46e63639dd2.json\n"
     ]
    }
   ],
   "source": [
    "\"\"\"\n",
    "usages:\n",
    "./test.py                    reads entire config dict\n",
    "./test.py thiskey thisvalue  sets 'thiskey' and 'thisvalue' in this dict\n",
    "\"\"\"\n",
    "\n",
    "import sys\n",
    "class ConfigDict(dict):\n",
    "    def __init__(self, file_to_open):\n",
    "        self.file_to_open = file_to_open\n",
    "        with open(file_to_open) as fto:\n",
    "            for line in fto:\n",
    "                key = line.split('=')[0]\n",
    "                val = line.split('=')[1].strip()\n",
    "                dict.__setitem__(self, key, val)          \n",
    "    def __setitem__(self, key, val):\n",
    "        dict.__setitem__(self, key, val)\n",
    "        with open(self.file_to_open, 'r') as fto:\n",
    "            ftw = fto.readlines()\n",
    "            ftw.append('\\n'+key+'='+val)\n",
    "        with open(self.file_to_open, 'w') as fto:\n",
    "            fto.writelines(ftw)\n",
    "            \n",
    "cd = ConfigDict('config.txt')\n",
    "if len(sys.argv) == 3:\n",
    "    key = sys.argv[1]\n",
    "    value = sys.argv[2]\n",
    "    print('writing data:  {0}, {1}'.format(key, value))\n",
    "    \n",
    "    cd[key] = value\n",
    "else:\n",
    "    print('reading data')\n",
    "    for key in cd.keys():\n",
    "          print('   {0} = {1}'.format(key, cd[key]))"
   ]
  },
  {
   "cell_type": "code",
   "execution_count": null,
   "metadata": {},
   "outputs": [],
   "source": []
  }
 ],
 "metadata": {
  "kernelspec": {
   "display_name": "Python 3",
   "language": "python",
   "name": "python3"
  },
  "language_info": {
   "codemirror_mode": {
    "name": "ipython",
    "version": 3
   },
   "file_extension": ".py",
   "mimetype": "text/x-python",
   "name": "python",
   "nbconvert_exporter": "python",
   "pygments_lexer": "ipython3",
   "version": "3.7.6"
  }
 },
 "nbformat": 4,
 "nbformat_minor": 4
}
