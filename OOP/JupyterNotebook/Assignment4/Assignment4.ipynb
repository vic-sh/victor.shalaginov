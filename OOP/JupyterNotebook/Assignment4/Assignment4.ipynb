{
 "cells": [
  {
   "cell_type": "code",
   "execution_count": 1,
   "metadata": {},
   "outputs": [
    {
     "ename": "FileNotFoundError",
     "evalue": "[Errno 2] No such file or directory: 'config.txt'",
     "output_type": "error",
     "traceback": [
      "\u001b[0;31m---------------------------------------------------------------------------\u001b[0m",
      "\u001b[0;31mFileNotFoundError\u001b[0m                         Traceback (most recent call last)",
      "\u001b[0;32m<ipython-input-1-627695d39765>\u001b[0m in \u001b[0;36m<module>\u001b[0;34m\u001b[0m\n\u001b[1;32m     28\u001b[0m         \u001b[0;31m#\u001b[0m\u001b[0;34m\u001b[0m\u001b[0;34m\u001b[0m\u001b[0;34m\u001b[0m\u001b[0m\n\u001b[1;32m     29\u001b[0m \u001b[0;34m\u001b[0m\u001b[0m\n\u001b[0;32m---> 30\u001b[0;31m \u001b[0mcd\u001b[0m \u001b[0;34m=\u001b[0m \u001b[0mConfigDict\u001b[0m\u001b[0;34m(\u001b[0m\u001b[0;34m'config.txt'\u001b[0m\u001b[0;34m)\u001b[0m\u001b[0;34m\u001b[0m\u001b[0;34m\u001b[0m\u001b[0m\n\u001b[0m",
      "\u001b[0;32m<ipython-input-1-627695d39765>\u001b[0m in \u001b[0;36m__init__\u001b[0;34m(self, file_to_open)\u001b[0m\n\u001b[1;32m      9\u001b[0m     \u001b[0;32mdef\u001b[0m \u001b[0m__init__\u001b[0m\u001b[0;34m(\u001b[0m\u001b[0mself\u001b[0m\u001b[0;34m,\u001b[0m \u001b[0mfile_to_open\u001b[0m\u001b[0;34m)\u001b[0m\u001b[0;34m:\u001b[0m\u001b[0;34m\u001b[0m\u001b[0;34m\u001b[0m\u001b[0m\n\u001b[1;32m     10\u001b[0m         \u001b[0mself\u001b[0m\u001b[0;34m.\u001b[0m\u001b[0mfile_to_open\u001b[0m \u001b[0;34m=\u001b[0m \u001b[0mfile_to_open\u001b[0m    \u001b[0;31m# What if file_to_open doesn't exist?\u001b[0m\u001b[0;34m\u001b[0m\u001b[0;34m\u001b[0m\u001b[0m\n\u001b[0;32m---> 11\u001b[0;31m         \u001b[0;32mwith\u001b[0m \u001b[0mopen\u001b[0m\u001b[0;34m(\u001b[0m\u001b[0mfile_to_open\u001b[0m\u001b[0;34m)\u001b[0m \u001b[0;32mas\u001b[0m \u001b[0mfto\u001b[0m\u001b[0;34m:\u001b[0m\u001b[0;34m\u001b[0m\u001b[0;34m\u001b[0m\u001b[0m\n\u001b[0m\u001b[1;32m     12\u001b[0m             \u001b[0;32mfor\u001b[0m \u001b[0mline\u001b[0m \u001b[0;32min\u001b[0m \u001b[0mfto\u001b[0m\u001b[0;34m:\u001b[0m\u001b[0;34m\u001b[0m\u001b[0;34m\u001b[0m\u001b[0m\n\u001b[1;32m     13\u001b[0m                 \u001b[0mkey\u001b[0m \u001b[0;34m=\u001b[0m \u001b[0mline\u001b[0m\u001b[0;34m.\u001b[0m\u001b[0msplit\u001b[0m\u001b[0;34m(\u001b[0m\u001b[0;34m'='\u001b[0m\u001b[0;34m)\u001b[0m\u001b[0;34m[\u001b[0m\u001b[0;36m0\u001b[0m\u001b[0;34m]\u001b[0m\u001b[0;34m\u001b[0m\u001b[0;34m\u001b[0m\u001b[0m\n",
      "\u001b[0;31mFileNotFoundError\u001b[0m: [Errno 2] No such file or directory: 'config.txt'"
     ]
    }
   ],
   "source": [
    "\"\"\"\n",
    "usages:\n",
    "./test.py                    reads entire config dict\n",
    "./test.py thatkey            ConfigKeyError\n",
    "./test.py thiskey thisvalue  sets 'thiskey' and 'thisvalue' in this dict\n",
    "\"\"\"\n",
    "import sys\n",
    "class ConfigDict(dict):\n",
    "    def __init__(self, file_to_open):\n",
    "        self.file_to_open = file_to_open    # What if file_to_open doesn't exist?\n",
    "        with open(file_to_open) as fto:\n",
    "            for line in fto:\n",
    "                key = line.split('=')[0]\n",
    "                val = line.split('=')[1].strip()\n",
    "                dict.__setitem__(self, key, val)          \n",
    "    def __setitem__(self, key, val):\n",
    "        dict.__setitem__(self, key, val)\n",
    "        with open(self.file_to_open, 'r') as fto:\n",
    "            ftw = fto.readlines()\n",
    "            ftw.append('\\n'+key+'='+val)\n",
    "        with open(self.file_to_open, 'w') as fto:\n",
    "            fto.writelines(ftw)\n",
    "    \n",
    "    # new exception class for a raise bad key exception\n",
    "    #def __getitem__(self, key):\n",
    "        \n",
    "    #    raise ConfigKeyError(self, key)\n",
    "        #\n",
    "\n",
    "cd = ConfigDict('config.txt')\n"
   ]
  },
  {
   "cell_type": "code",
   "execution_count": 7,
   "metadata": {},
   "outputs": [
    {
     "name": "stdout",
     "output_type": "stream",
     "text": [
      "file doesn't exist. creating a file...\n",
      "file config.txt created\n"
     ]
    }
   ],
   "source": [
    "import sys\n",
    "class ConfigDict(dict):\n",
    "    def __init__(self, file_to_open):\n",
    "        self.file_to_open = file_to_open    # What if file_to_open doesn't exist?\n",
    "        try:\n",
    "            with open(file_to_open) as fto:\n",
    "                for line in fto:\n",
    "                    key = line.split('=')[0]\n",
    "                    val = line.split('=')[1].strip()\n",
    "                    dict.__setitem__(self, key, val)\n",
    "        except FileNotFoundError:\n",
    "            print(\"file doesn't exist. creating a file...\")\n",
    "            with open(file_to_open, 'w+'):\n",
    "                print(\"file \" + file_to_open + \" created\")\n",
    "            \n",
    "    def __setitem__(self, key, val):\n",
    "        dict.__setitem__(self, key, val)\n",
    "        with open(self.file_to_open, 'r') as fto:\n",
    "            ftw = fto.readlines()\n",
    "            ftw.append('\\n'+key+'='+val)\n",
    "        with open(self.file_to_open, 'w') as fto:\n",
    "            fto.writelines(ftw)\n",
    "    \n",
    "    # new exception class for a raise bad key exception\n",
    "    #def __getitem__(self, key):\n",
    "    #    pass\n",
    "    #    raise ConfigKeyError(self, key)\n",
    "\n",
    "cd = ConfigDict('config.txt')"
   ]
  },
  {
   "cell_type": "code",
   "execution_count": 9,
   "metadata": {},
   "outputs": [
    {
     "name": "stdout",
     "output_type": "stream",
     "text": [
      "file doesn't exist. creating a file...\n",
      "file config.txt created\n"
     ]
    },
    {
     "ename": "KeyError",
     "evalue": "'non_existing_key'",
     "output_type": "error",
     "traceback": [
      "\u001b[0;31m---------------------------------------------------------------------------\u001b[0m",
      "\u001b[0;31mKeyError\u001b[0m                                  Traceback (most recent call last)",
      "\u001b[0;32m<ipython-input-9-5c1433d6f023>\u001b[0m in \u001b[0;36m<module>\u001b[0;34m\u001b[0m\n\u001b[1;32m     29\u001b[0m \u001b[0mcd\u001b[0m \u001b[0;34m=\u001b[0m \u001b[0mConfigDict\u001b[0m\u001b[0;34m(\u001b[0m\u001b[0;34m'config.txt'\u001b[0m\u001b[0;34m)\u001b[0m\u001b[0;34m\u001b[0m\u001b[0;34m\u001b[0m\u001b[0m\n\u001b[1;32m     30\u001b[0m \u001b[0;34m\u001b[0m\u001b[0m\n\u001b[0;32m---> 31\u001b[0;31m \u001b[0mprint\u001b[0m\u001b[0;34m(\u001b[0m\u001b[0mcd\u001b[0m\u001b[0;34m[\u001b[0m\u001b[0;34m'non_existing_key'\u001b[0m\u001b[0;34m]\u001b[0m\u001b[0;34m)\u001b[0m\u001b[0;34m\u001b[0m\u001b[0;34m\u001b[0m\u001b[0m\n\u001b[0m",
      "\u001b[0;31mKeyError\u001b[0m: 'non_existing_key'"
     ]
    }
   ],
   "source": [
    "import sys\n",
    "class ConfigDict(dict):\n",
    "    def __init__(self, file_to_open):\n",
    "        self.file_to_open = file_to_open    # What if file_to_open doesn't exist?\n",
    "        try:\n",
    "            with open(file_to_open) as fto:\n",
    "                for line in fto:\n",
    "                    key = line.split('=')[0]\n",
    "                    val = line.split('=')[1].strip()\n",
    "                    dict.__setitem__(self, key, val)\n",
    "        except FileNotFoundError:\n",
    "            print(\"file doesn't exist. creating a file...\")\n",
    "            with open(file_to_open, 'w+'):\n",
    "                print(\"file \" + file_to_open + \" created\")\n",
    "            \n",
    "    def __setitem__(self, key, val):\n",
    "        dict.__setitem__(self, key, val)\n",
    "        with open(self.file_to_open, 'r') as fto:\n",
    "            ftw = fto.readlines()\n",
    "            ftw.append('\\n'+key+'='+val)\n",
    "        with open(self.file_to_open, 'w') as fto:\n",
    "            fto.writelines(ftw)\n",
    "    \n",
    "    # new exception class for a raise bad key exception\n",
    "    #def __getitem__(self, key):\n",
    "    #    pass\n",
    "    #    raise ConfigKeyError(self, key)\n",
    "\n",
    "cd = ConfigDict('config.txt')\n",
    "\n",
    "print(cd['non_existing_key'])"
   ]
  },
  {
   "cell_type": "code",
   "execution_count": 10,
   "metadata": {},
   "outputs": [
    {
     "ename": "KeyError",
     "evalue": "'non_existing_key'",
     "output_type": "error",
     "traceback": [
      "\u001b[0;31m---------------------------------------------------------------------------\u001b[0m",
      "\u001b[0;31mKeyError\u001b[0m                                  Traceback (most recent call last)",
      "\u001b[0;32m<ipython-input-10-bfdac7719096>\u001b[0m in \u001b[0;36m<module>\u001b[0;34m\u001b[0m\n\u001b[1;32m     31\u001b[0m \u001b[0mcd\u001b[0m \u001b[0;34m=\u001b[0m \u001b[0mConfigDict\u001b[0m\u001b[0;34m(\u001b[0m\u001b[0;34m'config.txt'\u001b[0m\u001b[0;34m)\u001b[0m\u001b[0;34m\u001b[0m\u001b[0;34m\u001b[0m\u001b[0m\n\u001b[1;32m     32\u001b[0m \u001b[0;34m\u001b[0m\u001b[0m\n\u001b[0;32m---> 33\u001b[0;31m \u001b[0mprint\u001b[0m\u001b[0;34m(\u001b[0m\u001b[0mcd\u001b[0m\u001b[0;34m[\u001b[0m\u001b[0;34m'non_existing_key'\u001b[0m\u001b[0;34m]\u001b[0m\u001b[0;34m)\u001b[0m\u001b[0;34m\u001b[0m\u001b[0;34m\u001b[0m\u001b[0m\n\u001b[0m",
      "\u001b[0;31mKeyError\u001b[0m: 'non_existing_key'"
     ]
    }
   ],
   "source": [
    "import sys\n",
    "class ConfigDict(dict):\n",
    "    def __init__(self, file_to_open):\n",
    "        self.file_to_open = file_to_open    # What if file_to_open doesn't exist?\n",
    "        try:\n",
    "            with open(file_to_open) as fto:\n",
    "                for line in fto:\n",
    "                    key = line.split('=')[0]\n",
    "                    val = line.split('=')[1].strip()\n",
    "                    dict.__setitem__(self, key, val)\n",
    "        except FileNotFoundError:\n",
    "            print(\"file doesn't exist. creating a file...\")\n",
    "            with open(file_to_open, 'w+'):\n",
    "                print(\"file \" + file_to_open + \" created\")\n",
    "            \n",
    "    def __setitem__(self, key, val):\n",
    "        dict.__setitem__(self, key, val)\n",
    "        with open(self.file_to_open, 'r') as fto:\n",
    "            ftw = fto.readlines()\n",
    "            ftw.append('\\n'+key+'='+val)\n",
    "        with open(self.file_to_open, 'w') as fto:\n",
    "            fto.writelines(ftw)\n",
    "    \n",
    "    # new exception class for raise a bad key exception\n",
    "    def __getitem__(self, key):\n",
    "#        try:\n",
    "        print(self.get(key))\n",
    "#        except KeyError:\n",
    "#            raise ConfigKeyError(self, key)\n",
    "'''\n",
    "cd = ConfigDict('config.txt')\n",
    "\n",
    "print(cd['non_existing_key'])"
   ]
  },
  {
   "cell_type": "code",
   "execution_count": 59,
   "metadata": {},
   "outputs": [
    {
     "name": "stdout",
     "output_type": "stream",
     "text": [
      "mysql\n",
      "mysql2\n"
     ]
    }
   ],
   "source": [
    "import sys\n",
    "class ConfigDict(dict):\n",
    "    def __init__(self, file_to_open):\n",
    "        self.file_to_open = file_to_open    # What if file_to_open doesn't exist?\n",
    "        try:\n",
    "            with open(file_to_open) as fto:\n",
    "                for line in fto:\n",
    "                    key = line.split('=')[0]\n",
    "                    val = line.split('=')[1].strip()\n",
    "                    dict.__setitem__(self, key, val)\n",
    "        except FileNotFoundError:\n",
    "            print(\"file doesn't exist. creating a file...\")\n",
    "            with open(file_to_open, 'w+'):\n",
    "                print(\"file \" + file_to_open + \" created\")\n",
    "            \n",
    "    def __setitem__(self, key, val):\n",
    "        dict.__setitem__(self, key, val)\n",
    "        with open(self.file_to_open, 'r') as fto:\n",
    "            ftw = fto.readlines()\n",
    "            ftw.append('\\n'+key+'='+val)\n",
    "        with open(self.file_to_open, 'w') as fto:\n",
    "            fto.writelines(ftw)\n",
    "    \n",
    "    def __getitem__(self, key):\n",
    "        if key not in self.keys():\n",
    "            keys_list = []\n",
    "            for element in self.keys():\n",
    "                keys_list.append(element)\n",
    "            raise ConfigKeyError(key, keys_list)\n",
    "        return dict.__getitem__(self, key)\n",
    "            \n",
    "# new exception class for raise a bad key exception\n",
    "class ConfigKeyError(Exception):\n",
    "    def __init__(self, key, list_of_keys):\n",
    "        print(\"There is no \" + key + \". Please choose from:\")\n",
    "        print(str(list_of_keys))\n",
    "        \n",
    "cd = ConfigDict('config.txt')\n",
    "#print(cd['non_existing_key'])\n",
    "cd['database1'] = 'mysql2'\n",
    "print(cd['database'])\n",
    "print(cd['database1'])"
   ]
  },
  {
   "cell_type": "code",
   "execution_count": null,
   "metadata": {},
   "outputs": [],
   "source": []
  }
 ],
 "metadata": {
  "kernelspec": {
   "display_name": "Python 3",
   "language": "python",
   "name": "python3"
  },
  "language_info": {
   "codemirror_mode": {
    "name": "ipython",
    "version": 3
   },
   "file_extension": ".py",
   "mimetype": "text/x-python",
   "name": "python",
   "nbconvert_exporter": "python",
   "pygments_lexer": "ipython3",
   "version": "3.7.6"
  }
 },
 "nbformat": 4,
 "nbformat_minor": 4
}
