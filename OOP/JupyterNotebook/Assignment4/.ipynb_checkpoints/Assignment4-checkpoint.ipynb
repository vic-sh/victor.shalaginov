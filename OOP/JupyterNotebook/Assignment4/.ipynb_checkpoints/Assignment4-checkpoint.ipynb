{
 "cells": [
  {
   "cell_type": "code",
   "execution_count": 2,
   "metadata": {},
   "outputs": [],
   "source": [
    "\"\"\"\n",
    "usages:\n",
    "./test.py                    reads entire config dict\n",
    "./test.py thatkey            ConfigKeyError\n",
    "./test.py thiskey thisvalue  sets 'thiskey' and 'thisvalue' in this dict\n",
    "\"\"\"\n",
    "import sys\n",
    "class ConfigDict(dict):\n",
    "    def __init__(self, file_to_open):\n",
    "        self.file_to_open = file_to_open    # What if file_to_open doesn't exist?\n",
    "        with open(file_to_open) as fto:\n",
    "            for line in fto:\n",
    "                key = line.split('=')[0]\n",
    "                val = line.split('=')[1].strip()\n",
    "                dict.__setitem__(self, key, val)          \n",
    "    def __setitem__(self, key, val):\n",
    "        dict.__setitem__(self, key, val)\n",
    "        with open(self.file_to_open, 'r') as fto:\n",
    "            ftw = fto.readlines()\n",
    "            ftw.append('\\n'+key+'='+val)\n",
    "        with open(self.file_to_open, 'w') as fto:\n",
    "            fto.writelines(ftw)\n",
    "# new exception class for a raise bad key exception\n",
    "# "
   ]
  },
  {
   "cell_type": "code",
   "execution_count": null,
   "metadata": {},
   "outputs": [],
   "source": []
  }
 ],
 "metadata": {
  "kernelspec": {
   "display_name": "Python 3",
   "language": "python",
   "name": "python3"
  },
  "language_info": {
   "codemirror_mode": {
    "name": "ipython",
    "version": 3
   },
   "file_extension": ".py",
   "mimetype": "text/x-python",
   "name": "python",
   "nbconvert_exporter": "python",
   "pygments_lexer": "ipython3",
   "version": "3.7.6"
  }
 },
 "nbformat": 4,
 "nbformat_minor": 4
}
