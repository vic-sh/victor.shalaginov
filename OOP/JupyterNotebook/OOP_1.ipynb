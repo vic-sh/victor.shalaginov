{
 "cells": [
  {
   "cell_type": "code",
   "execution_count": 3,
   "metadata": {},
   "outputs": [
    {
     "name": "stdout",
     "output_type": "stream",
     "text": [
      "10\n",
      "10\n"
     ]
    }
   ],
   "source": [
    "class MyClass(object):\n",
    "    var = 10\n",
    "\n",
    "this_obj = MyClass()\n",
    "\n",
    "print(this_obj.var)\n",
    "\n",
    "that_obj = MyClass()\n",
    "\n",
    "print(that_obj.var)\n"
   ]
  },
  {
   "cell_type": "code",
   "execution_count": 4,
   "metadata": {},
   "outputs": [
    {
     "name": "stdout",
     "output_type": "stream",
     "text": [
      "Hello!\n"
     ]
    }
   ],
   "source": [
    "class Joe(object):\n",
    "    greeting = 'Hello!'\n",
    "    \n",
    "thisjoe = Joe()\n",
    "\n",
    "print(thisjoe.greeting)"
   ]
  },
  {
   "cell_type": "code",
   "execution_count": 8,
   "metadata": {},
   "outputs": [
    {
     "name": "stdout",
     "output_type": "stream",
     "text": [
      "calling \"callme\" method with instance: \n",
      "<__main__.Joe object at 0x10e9b5090>\n",
      "<__main__.Joe object at 0x10e9b5090>\n"
     ]
    }
   ],
   "source": [
    "class Joe(object):\n",
    "    def callme(self):\n",
    "        print('calling \"callme\" method with instance: ')\n",
    "        print(self)\n",
    "    \n",
    "thisjoe = Joe()\n",
    "\n",
    "thisjoe.callme()\n",
    "print(thisjoe)"
   ]
  },
  {
   "cell_type": "code",
   "execution_count": 17,
   "metadata": {},
   "outputs": [
    {
     "name": "stdout",
     "output_type": "stream",
     "text": [
      "5\n"
     ]
    }
   ],
   "source": [
    "import random\n",
    "\n",
    "class MyClass(object):\n",
    "    def dothis(self):\n",
    "        self.rand_val = random.randint(1,10)\n",
    "        \n",
    "myinst = MyClass()\n",
    "myinst.dothis()\n",
    "print(myinst.rand_val)\n",
    "\n"
   ]
  },
  {
   "cell_type": "code",
   "execution_count": 19,
   "metadata": {},
   "outputs": [
    {
     "name": "stdout",
     "output_type": "stream",
     "text": [
      "hi\n",
      "100\n"
     ]
    }
   ],
   "source": [
    "class MyClass(object):\n",
    "    \n",
    "    def set_val(self, val):\n",
    "        self.value = val\n",
    "    \n",
    "    def get_val(self):\n",
    "        return self.value\n",
    "    \n",
    "a = MyClass()\n",
    "b = MyClass()\n",
    "\n",
    "a.set_val(10)\n",
    "b.set_val(100)\n",
    "#a.value='hi'\n",
    "\n",
    "print(a.get_val())\n",
    "print(b.get_val())\n"
   ]
  },
  {
   "cell_type": "code",
   "execution_count": 40,
   "metadata": {},
   "outputs": [
    {
     "name": "stdout",
     "output_type": "stream",
     "text": [
      "5\n",
      "<class 'int'>\n",
      "6\n"
     ]
    }
   ],
   "source": [
    "class MyInteger(object):\n",
    "    def set_val(self, val):\n",
    "        try:\n",
    "            val = int(val)\n",
    "        except ValueError:\n",
    "            return\n",
    "        self.val = val\n",
    "\n",
    "    def get_val(self):\n",
    "        return self.val\n",
    "    \n",
    "    def increment_val(self):\n",
    "        self.val = self.val + 1\n",
    "        \n",
    "i = MyInteger()\n",
    "i.set_val(5)\n",
    "print(i.get_val())\n",
    "print(type(i.get_val()))\n",
    "i.increment_val()\n",
    "print(i.val)\n",
    "        "
   ]
  },
  {
   "cell_type": "code",
   "execution_count": 41,
   "metadata": {},
   "outputs": [
    {
     "name": "stdout",
     "output_type": "stream",
     "text": [
      "calling __init__\n",
      "2\n"
     ]
    }
   ],
   "source": [
    "class MyNum(object):\n",
    "    def __init__(self):\n",
    "        print('calling __init__')\n",
    "        self.val = 0\n",
    "        \n",
    "    def increment(self):\n",
    "        self.val = self.val + 1\n",
    "        \n",
    "dd = MyNum()   #calling __init__\n",
    "dd.increment()\n",
    "dd.increment()\n",
    "\n",
    "print(dd.val)\n",
    "\n"
   ]
  },
  {
   "cell_type": "code",
   "execution_count": 47,
   "metadata": {},
   "outputs": [
    {
     "name": "stdout",
     "output_type": "stream",
     "text": [
      "calling __init__\n",
      "7\n"
     ]
    }
   ],
   "source": [
    "class MyNum(object):\n",
    "    def __init__(self, value):\n",
    "        print('calling __init__')\n",
    "        self.val = value\n",
    "        \n",
    "    def increment(self):\n",
    "        self.val = self.val + 1\n",
    "        \n",
    "dd = MyNum(5)   #calling __init__\n",
    "dd.increment()\n",
    "dd.increment()\n",
    "\n",
    "print(dd.val)"
   ]
  },
  {
   "cell_type": "code",
   "execution_count": 48,
   "metadata": {},
   "outputs": [
    {
     "name": "stdout",
     "output_type": "stream",
     "text": [
      "calling __init__\n",
      "2\n"
     ]
    }
   ],
   "source": [
    "class MyNum(object):\n",
    "    def __init__(self, value):\n",
    "        print('calling __init__')\n",
    "        try:\n",
    "            value = int(value)\n",
    "        except ValueError:\n",
    "            value = 0\n",
    "        self.val = value\n",
    "        \n",
    "    def increment(self):\n",
    "        self.val = self.val + 1\n",
    "        \n",
    "dd = MyNum('hi')   #calling __init__\n",
    "dd.increment()\n",
    "dd.increment()\n",
    "\n",
    "print(dd.val)"
   ]
  },
  {
   "cell_type": "code",
   "execution_count": 50,
   "metadata": {},
   "outputs": [
    {
     "name": "stdout",
     "output_type": "stream",
     "text": [
      "calling __init__\n",
      "calling __init__\n",
      "2\n",
      "101\n"
     ]
    }
   ],
   "source": [
    "class MyNum(object):\n",
    "    def __init__(self, value):\n",
    "        print('calling __init__')\n",
    "        try:\n",
    "            value = int(value)\n",
    "        except ValueError:\n",
    "            value = 0\n",
    "        self.val = value\n",
    "        \n",
    "    def increment(self):\n",
    "        self.val = self.val + 1\n",
    "\n",
    "aa = MyNum('hello')\n",
    "bb = MyNum(100)\n",
    "\n",
    "aa.increment()\n",
    "aa.increment()\n",
    "bb.increment()\n",
    "\n",
    "print(aa.val)\n",
    "print(bb.val)\n"
   ]
  },
  {
   "cell_type": "code",
   "execution_count": 1,
   "metadata": {},
   "outputs": [
    {
     "name": "stdout",
     "output_type": "stream",
     "text": [
      "10\n",
      "100\n"
     ]
    }
   ],
   "source": [
    "class YourClass(object):\n",
    "    classy = 10\n",
    "    \n",
    "    def set_val(self):\n",
    "        self.insty = 100\n",
    "        \n",
    "dd = YourClass()\n",
    "\n",
    "dd.set_val()\n",
    "print(dd.classy)\n",
    "print(dd.insty)\n"
   ]
  },
  {
   "cell_type": "code",
   "execution_count": 3,
   "metadata": {},
   "outputs": [
    {
     "name": "stdout",
     "output_type": "stream",
     "text": [
      "classy value\n",
      "just value\n",
      "classy value\n"
     ]
    }
   ],
   "source": [
    "class YourClass(object):\n",
    "    classy = 'classy value'\n",
    "    \n",
    "dd = YourClass()\n",
    "\n",
    "print(dd.classy)\n",
    "\n",
    "dd.classy = 'just value'\n",
    "\n",
    "print(dd.classy)\n",
    "\n",
    "del dd.classy\n",
    "\n",
    "print(dd.classy)\n",
    "\n",
    "    \n",
    "    "
   ]
  },
  {
   "cell_type": "code",
   "execution_count": 4,
   "metadata": {},
   "outputs": [
    {
     "name": "stdout",
     "output_type": "stream",
     "text": [
      "val of obj: 5\n",
      "count: 3\n",
      "val of obj: 13\n",
      "count: 3\n",
      "val of obj: 17\n",
      "count: 3\n"
     ]
    }
   ],
   "source": [
    "class InstanceCounter(object):\n",
    "    count = 0\n",
    "    \n",
    "    def __init__(self, val):\n",
    "        self.val = val\n",
    "        InstanceCounter.count += 1\n",
    "\n",
    "    def set_val(self, newval):\n",
    "        self.val = newval\n",
    "    \n",
    "    def get_val(self):\n",
    "        return self.val\n",
    "    \n",
    "    def get_count(self):\n",
    "        return InstanceCounter.count\n",
    "    \n",
    "a = InstanceCounter(5)\n",
    "b = InstanceCounter(13)\n",
    "c = InstanceCounter(17)\n",
    "\n",
    "for obj in (a, b, c):\n",
    "    print(\"val of obj: %s\" % (obj.get_val())) # init value\n",
    "    print(\"count: %s\" % (obj.get_count()))    # always 3"
   ]
  },
  {
   "cell_type": "code",
   "execution_count": 9,
   "metadata": {},
   "outputs": [
    {
     "name": "stdout",
     "output_type": "stream",
     "text": [
      "['hi', \"let's\", 'go']\n",
      "['go']\n"
     ]
    }
   ],
   "source": [
    "class MaxSizeList(object):\n",
    "\n",
    "    def __init__(self, LengthOfList):\n",
    "        self.MaxLengthOfList = LengthOfList\n",
    "        #self.CurrentLengthOfList = 0\n",
    "        self.ListOfElements = []\n",
    "\n",
    "    def push(self, ElementOfList):\n",
    "        if len(self.ListOfElements) >= self.MaxLengthOfList:\n",
    "            self.ListOfElements.pop(0)\n",
    "            self.ListOfElements.append(ElementOfList)\n",
    "        else:\n",
    "            self.ListOfElements.append(ElementOfList)\n",
    "    \n",
    "    def get_list(self):\n",
    "        return self.ListOfElements\n",
    "            \n",
    "a = MaxSizeList(3)\n",
    "b = MaxSizeList(1)\n",
    "\n",
    "a.push(\"hey\")\n",
    "a.push(\"hi\")\n",
    "a.push(\"let's\")\n",
    "a.push(\"go\")\n",
    "\n",
    "b.push(\"hey\")\n",
    "b.push(\"hi\")\n",
    "b.push(\"let's\")\n",
    "b.push(\"go\")\n",
    "\n",
    "print(a.get_list())\n",
    "print(b.get_list())"
   ]
  },
  {
   "cell_type": "code",
   "execution_count": null,
   "metadata": {},
   "outputs": [],
   "source": []
  }
 ],
 "metadata": {
  "celltoolbar": "Slideshow",
  "kernelspec": {
   "display_name": "Python 3",
   "language": "python",
   "name": "python3"
  },
  "language_info": {
   "codemirror_mode": {
    "name": "ipython",
    "version": 3
   },
   "file_extension": ".py",
   "mimetype": "text/x-python",
   "name": "python",
   "nbconvert_exporter": "python",
   "pygments_lexer": "ipython3",
   "version": "3.7.6"
  }
 },
 "nbformat": 4,
 "nbformat_minor": 4
}
