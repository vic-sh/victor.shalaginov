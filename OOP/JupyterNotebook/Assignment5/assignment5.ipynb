{
 "cells": [
  {
   "cell_type": "code",
   "execution_count": 21,
   "metadata": {},
   "outputs": [
    {
     "name": "stdout",
     "output_type": "stream",
     "text": [
      "file doesn't exist. creating a file...\n",
      "file datafile created\n",
      "mysql2\n"
     ]
    }
   ],
   "source": [
    "import sys\n",
    "import pickle\n",
    "import os\n",
    "\n",
    "class ConfigPickleDict(dict):\n",
    "    \n",
    "    config_directory = '/Users/vict0r/python/victor.shalaginov/OOP/JupyterNotebook/Assignment5'\n",
    "    \n",
    "    def __init__(self, config_name):\n",
    "        self._file_to_open = os.path.join(ConfigPickleDict.config_directory, config_name + '.pickle')    # What if file_to_open doesn't exist?\n",
    "        try:\n",
    "            with open(self._file_to_open, 'rb') as fto:\n",
    "                pkl = pickle.load(fto)\n",
    "                self.update(pkl)\n",
    "        except FileNotFoundError:\n",
    "            print(\"file doesn't exist. creating a file...\")\n",
    "            with open(self._file_to_open, 'wb+') as fto:\n",
    "                pickle.dump({}, fto)\n",
    "                print(\"file \" + config_name + \" created\")\n",
    "            \n",
    "    def __setitem__(self, key, val):\n",
    "        dict.__setitem__(self, key, val)\n",
    "        with open(self._file_to_open, 'wb') as fto:\n",
    "            pickle.dump(self, fto)\n",
    "    \n",
    "    def __getitem__(self, key):\n",
    "        if key not in self.keys():\n",
    "            keys_list = []\n",
    "            for element in self.keys():\n",
    "                keys_list.append(element)\n",
    "            raise ConfigKeyError(key, keys_list)\n",
    "        return dict.__getitem__(self, key)\n",
    "            \n",
    "# new exception class for raise a bad key exception\n",
    "class ConfigKeyError(Exception):\n",
    "    def __init__(self, key, list_of_keys):\n",
    "        print(\"There is no \" + key + \". Please choose from:\")\n",
    "        print(str(list_of_keys))\n",
    "        \n",
    "cd = ConfigPickleDict('datafile')\n",
    "cd['database1'] = 'mysql2'\n",
    "print(cd['database1'])"
   ]
  },
  {
   "cell_type": "code",
   "execution_count": null,
   "metadata": {},
   "outputs": [],
   "source": []
  }
 ],
 "metadata": {
  "kernelspec": {
   "display_name": "Python 3",
   "language": "python",
   "name": "python3"
  },
  "language_info": {
   "codemirror_mode": {
    "name": "ipython",
    "version": 3
   },
   "file_extension": ".py",
   "mimetype": "text/x-python",
   "name": "python",
   "nbconvert_exporter": "python",
   "pygments_lexer": "ipython3",
   "version": "3.7.6"
  }
 },
 "nbformat": 4,
 "nbformat_minor": 4
}
