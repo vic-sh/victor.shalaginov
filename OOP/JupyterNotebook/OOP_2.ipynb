{
 "cells": [
  {
   "cell_type": "code",
   "execution_count": 2,
   "metadata": {},
   "outputs": [
    {
     "name": "stdout",
     "output_type": "stream",
     "text": [
      "2020-07-21\n",
      "2020-07-21\n",
      "12:04:00\n"
     ]
    }
   ],
   "source": [
    "class Date(object):\n",
    "    def get_date(self):\n",
    "        return '2020-07-21'\n",
    "\n",
    "class Time(Date):\n",
    "    def get_time(self):\n",
    "        return '12:04:00'\n",
    "\n",
    "dt = Date()\n",
    "print(dt.get_date())\n",
    "\n",
    "tm = Time()\n",
    "print(tm.get_date())\n",
    "print(tm.get_time())"
   ]
  },
  {
   "cell_type": "code",
   "execution_count": 11,
   "metadata": {},
   "outputs": [
    {
     "name": "stdout",
     "output_type": "stream",
     "text": [
      "Rover goes after the paper\n",
      "Flurry shred the string\n",
      "Rover is eating dog food\n",
      "Flurry is eating cat food\n"
     ]
    },
    {
     "ename": "AttributeError",
     "evalue": "'Dog' object has no attribute 'swatstring'",
     "output_type": "error",
     "traceback": [
      "\u001b[0;31m---------------------------------------------------------------------------\u001b[0m",
      "\u001b[0;31mAttributeError\u001b[0m                            Traceback (most recent call last)",
      "\u001b[0;32m<ipython-input-11-1bceb0367281>\u001b[0m in \u001b[0;36m<module>\u001b[0;34m\u001b[0m\n\u001b[1;32m     19\u001b[0m \u001b[0mr\u001b[0m\u001b[0;34m.\u001b[0m\u001b[0meat\u001b[0m\u001b[0;34m(\u001b[0m\u001b[0;34m'dog food'\u001b[0m\u001b[0;34m)\u001b[0m\u001b[0;34m\u001b[0m\u001b[0;34m\u001b[0m\u001b[0m\n\u001b[1;32m     20\u001b[0m \u001b[0mf\u001b[0m\u001b[0;34m.\u001b[0m\u001b[0meat\u001b[0m\u001b[0;34m(\u001b[0m\u001b[0;34m'cat food'\u001b[0m\u001b[0;34m)\u001b[0m\u001b[0;34m\u001b[0m\u001b[0;34m\u001b[0m\u001b[0m\n\u001b[0;32m---> 21\u001b[0;31m \u001b[0mr\u001b[0m\u001b[0;34m.\u001b[0m\u001b[0mswatstring\u001b[0m\u001b[0;34m(\u001b[0m\u001b[0;34m)\u001b[0m\u001b[0;34m\u001b[0m\u001b[0;34m\u001b[0m\u001b[0m\n\u001b[0m",
      "\u001b[0;31mAttributeError\u001b[0m: 'Dog' object has no attribute 'swatstring'"
     ]
    }
   ],
   "source": [
    "class Animal(object):\n",
    "    def __init__(self, name):\n",
    "        self.name = name\n",
    "    def eat(self, food):\n",
    "        print(\"{} is eating {}\".format(self.name, food))\n",
    "\n",
    "class Dog(Animal):\n",
    "    def fetch(self, thing):\n",
    "        print(\"{} goes after the {}\".format(self.name, thing))\n",
    "        \n",
    "    def show_affection(self):\n",
    "        print(\"{} wags tail\".format(self.name))\n",
    "\n",
    "class Cat(Animal):\n",
    "    def swatstring(self):\n",
    "        print(\"{} shred the string\".format(self.name))\n",
    "        \n",
    "    def show_affection(self):\n",
    "        print(\"{} purrs\".format(self.name))\n",
    "\n",
    "\n",
    "#r = Dog('Rover')\n",
    "#f = Cat('Flurry')\n",
    "#\n",
    "#r.fetch('paper')\n",
    "#f.swatstring()\n",
    "#r.eat('dog food')\n",
    "#f.eat('cat food')\n",
    "#r.swatstring()"
   ]
  },
  {
   "cell_type": "code",
   "execution_count": 14,
   "metadata": {},
   "outputs": [
    {
     "name": "stdout",
     "output_type": "stream",
     "text": [
      "Rover wags tail\n",
      "Fluffy purrs\n",
      "Precious purrs\n",
      "Scout wags tail\n"
     ]
    }
   ],
   "source": [
    "class Animal(object):\n",
    "    def __init__(self, name):\n",
    "        self.name = name\n",
    "    def eat(self, food):\n",
    "        print(\"{} is eating {}\".format(self.name, food))\n",
    "\n",
    "class Dog(Animal):\n",
    "    def fetch(self, thing):\n",
    "        print(\"{} goes after the {}\".format(self.name, thing))\n",
    "        \n",
    "    def show_affection(self):\n",
    "        print(\"{} wags tail\".format(self.name))\n",
    "\n",
    "class Cat(Animal):\n",
    "    def swatstring(self):\n",
    "        print(\"{} shred the string\".format(self.name))\n",
    "        \n",
    "    def show_affection(self):\n",
    "        print(\"{} purrs\".format(self.name))\n",
    "\n",
    "for a in (Dog('Rover'), Cat('Fluffy'), Cat('Precious'), Dog('Scout')):\n",
    "    a.show_affection()\n",
    "    \n"
   ]
  },
  {
   "cell_type": "code",
   "execution_count": 20,
   "metadata": {},
   "outputs": [
    {
     "name": "stdout",
     "output_type": "stream",
     "text": [
      "dogname\n",
      "Shis Tzu\n"
     ]
    }
   ],
   "source": [
    "import random\n",
    "\n",
    "class Animal(object):\n",
    "    \n",
    "    def __init__(self, name):\n",
    "        self.name = name\n",
    "\n",
    "class Dog(Animal):\n",
    "    \n",
    "    def __init__(self, name):\n",
    "        super(Dog, self).__init__(name)\n",
    "        self.breed = random.choice(['Shis Tzu', 'Beagle', 'Mutt'])\n",
    "    \n",
    "d = Dog('dogname')\n",
    "\n",
    "print(d.name)\n",
    "print(d.breed)"
   ]
  },
  {
   "cell_type": "code",
   "execution_count": 31,
   "metadata": {},
   "outputs": [
    {
     "name": "stdout",
     "output_type": "stream",
     "text": [
      "Lucky\n",
      "Lucky is eating mouse\n",
      "Lucky goes after cat\n"
     ]
    }
   ],
   "source": [
    "class Animal(object):\n",
    "    \n",
    "    def __init__(self, name):\n",
    "        self.name = name\n",
    "    \n",
    "    def eat(self, food):\n",
    "        print('{} is eating {}'.format(self.name, food))\n",
    "\n",
    "class Dog(Animal):\n",
    "    def fetch(self, thing):\n",
    "        print('{} goes after {}'.format(self.name, thing))\n",
    "            \n",
    "d = Dog('Lucky')\n",
    "\n",
    "print(d.name)\n",
    "d.eat('mouse')\n",
    "d.fetch('cat')"
   ]
  },
  {
   "cell_type": "code",
   "execution_count": 4,
   "metadata": {},
   "outputs": [
    {
     "name": "stdout",
     "output_type": "stream",
     "text": [
      "doing this in A\n",
      "[<class '__main__.D'>, <class '__main__.B'>, <class '__main__.A'>, <class '__main__.C'>, <class 'object'>]\n"
     ]
    }
   ],
   "source": [
    "class A(object):\n",
    "    def dothis(self):\n",
    "        print('doing this in A')\n",
    "        \n",
    "class B(A):\n",
    "    pass\n",
    "\n",
    "class C(object):\n",
    "    def dothis(self):\n",
    "        print('doing this in C')\n",
    "\n",
    "class D(B,C):\n",
    "    pass\n",
    "\n",
    "d_instance = D()\n",
    "\n",
    "d_instance.dothis()\n",
    "\n",
    "print(D.mro())"
   ]
  },
  {
   "cell_type": "code",
   "execution_count": 5,
   "metadata": {},
   "outputs": [
    {
     "name": "stdout",
     "output_type": "stream",
     "text": [
      "doing this in C\n",
      "[<class '__main__.D'>, <class '__main__.B'>, <class '__main__.C'>, <class '__main__.A'>, <class 'object'>]\n"
     ]
    }
   ],
   "source": [
    "class A(object):\n",
    "    def dothis(self):\n",
    "        print('doing this in A')\n",
    "        \n",
    "class B(A):\n",
    "    pass\n",
    "\n",
    "class C(A):\n",
    "    \n",
    "    def dothis(self):\n",
    "        print('doing this in C')\n",
    "        \n",
    "class D(B,C):\n",
    "    pass\n",
    "\n",
    "d_instance = D()\n",
    "\n",
    "d_instance.dothis()\n",
    "\n",
    "print(D.mro())\n",
    "\n",
    "\n"
   ]
  },
  {
   "cell_type": "code",
   "execution_count": 10,
   "metadata": {},
   "outputs": [
    {
     "name": "stdout",
     "output_type": "stream",
     "text": [
      "val of obj: 5\n",
      "count: 3\n",
      "val of obj: 13\n",
      "count: 3\n",
      "val of obj: 17\n",
      "count: 3\n",
      "3\n"
     ]
    }
   ],
   "source": [
    "class InstanceCounter(object):\n",
    "    count = 0\n",
    "    \n",
    "    def __init__(self, val):\n",
    "        self.val = val\n",
    "        InstanceCounter.count += 1\n",
    "\n",
    "    def set_val(self, newval):\n",
    "        self.val = newval\n",
    "    \n",
    "    def get_val(self):\n",
    "        return self.val\n",
    "    \n",
    "    @classmethod\n",
    "    def get_count(cls):\n",
    "        return cls.count\n",
    "    \n",
    "a = InstanceCounter(5)\n",
    "b = InstanceCounter(13)\n",
    "c = InstanceCounter(17)\n",
    "\n",
    "for obj in (a, b, c):\n",
    "    print(\"val of obj: %s\" % (obj.get_val())) # init value\n",
    "    print(\"count: %s\" % (obj.get_count()))    # always 3\n",
    "\n",
    "print(InstanceCounter.get_count())"
   ]
  },
  {
   "cell_type": "code",
   "execution_count": 12,
   "metadata": {},
   "outputs": [
    {
     "name": "stdout",
     "output_type": "stream",
     "text": [
      "5\n",
      "13\n",
      "17\n"
     ]
    }
   ],
   "source": [
    "class InstanceCounter(object):\n",
    "    count = 0\n",
    "    \n",
    "    def __init__(self, val):\n",
    "        self.val = self.filterint(val)\n",
    "        InstanceCounter.count += 1\n",
    "    \n",
    "    @staticmethod\n",
    "    def filterint(value):\n",
    "        if not isinstance(value, int):\n",
    "            return 0\n",
    "        else:\n",
    "            return value\n",
    "\n",
    "a = InstanceCounter(5)\n",
    "b = InstanceCounter(13)\n",
    "c = InstanceCounter(17)\n",
    "\n",
    "print(a.val)\n",
    "print(b.val)\n",
    "print(c.val)"
   ]
  },
  {
   "cell_type": "code",
   "execution_count": 13,
   "metadata": {},
   "outputs": [
    {
     "name": "stdout",
     "output_type": "stream",
     "text": [
      "5\n",
      "13\n",
      "0\n"
     ]
    }
   ],
   "source": [
    "class InstanceCounter(object):\n",
    "    count = 0\n",
    "    \n",
    "    def __init__(self, val):\n",
    "        self.val = self.filterint(val)\n",
    "        InstanceCounter.count += 1\n",
    "    \n",
    "    @staticmethod\n",
    "    def filterint(value):\n",
    "        if not isinstance(value, int):\n",
    "            return 0\n",
    "        else:\n",
    "            return value\n",
    "\n",
    "a = InstanceCounter(5)\n",
    "b = InstanceCounter(13)\n",
    "c = InstanceCounter('hello')\n",
    "\n",
    "print(a.val)\n",
    "print(b.val)\n",
    "print(c.val)"
   ]
  },
  {
   "cell_type": "code",
   "execution_count": 23,
   "metadata": {},
   "outputs": [
    {
     "name": "stdout",
     "output_type": "stream",
     "text": [
      "<__main__.MyClass object at 0x107c55090>\n",
      "<__main__.GetterSetter object at 0x1083eecd0>\n"
     ]
    }
   ],
   "source": [
    "import abc\n",
    "\n",
    "class GetterSetter(object):\n",
    "    __metaclass__ = abc.ABCMeta\n",
    "    \n",
    "    @abc.abstractmethod\n",
    "    def set_val(self, input):\n",
    "        \"\"\"set value for a instance\"\"\"\n",
    "        return\n",
    "    \n",
    "    @abc.abstractmethod\n",
    "    def get_val(self):\n",
    "        \"\"\"get and return value for an instance\"\"\"\n",
    "        return\n",
    "    \n",
    "class MyClass(GetterSetter):\n",
    "    def set_val(self, input):\n",
    "        self.val = input\n",
    "        \n",
    "    def get_val(self):\n",
    "        return self.val\n",
    "\n",
    "x = MyClass()\n",
    "print(x)\n",
    "y = GetterSetter()\n",
    "print(y)"
   ]
  },
  {
   "cell_type": "code",
   "execution_count": 5,
   "metadata": {},
   "outputs": [
    {
     "name": "stdout",
     "output_type": "stream",
     "text": [
      "5\n",
      "GetSetInt object (4589848592), only accepts integer values\n",
      "\n",
      "20\n",
      "[5, 10, 20]\n",
      "GetSetList object, len 3, stores history of values set\n"
     ]
    }
   ],
   "source": [
    "import abc\n",
    "class GetSetParent(object):\n",
    "    __metaclass__ = abc.ABCMeta\n",
    "    def __init__(self, value):\n",
    "        self.val = 0\n",
    "        \n",
    "    def set_val(self, value):\n",
    "        self.val = value\n",
    "        \n",
    "    def get_val(self):\n",
    "        return self.val\n",
    "    \n",
    "    @abc.abstractmethod\n",
    "    def showdoc(self):\n",
    "        return\n",
    "    \n",
    "class GetSetInt(GetSetParent):\n",
    "    def set_val(self, value):\n",
    "        if not isinstance(value, int):\n",
    "            value = 0\n",
    "        super(GetSetInt, self).set_val(value)\n",
    "        \n",
    "    def showdoc(self):\n",
    "        print('GetSetInt object ({0}), only accepts '\n",
    "             'integer values'.format(id(self)))\n",
    "\n",
    "class GetSetList(GetSetParent):\n",
    "    \n",
    "    def __init__(self, value=0):\n",
    "        self.vallist = [value]\n",
    "        \n",
    "    def get_val(self):\n",
    "        return self.vallist[-1]\n",
    "    \n",
    "    def get_vals(self):\n",
    "        return self.vallist\n",
    "    \n",
    "    def set_val(self, value):\n",
    "        self.vallist.append(value)\n",
    "        \n",
    "    def showdoc(self):\n",
    "        print('GetSetList object, len {0}, stores '\n",
    "             'history of values set'.format(len(self.vallist)))\n",
    "    \n",
    "\n",
    "x = GetSetInt(3)\n",
    "x.set_val(5)\n",
    "print(x.get_val())\n",
    "x.showdoc()\n",
    "\n",
    "print('')\n",
    "\n",
    "gsl = GetSetList(5)\n",
    "gsl.set_val(10)\n",
    "gsl.set_val(20)\n",
    "print(gsl.get_val())\n",
    "print(gsl.get_vals())\n",
    "gsl.showdoc()"
   ]
  },
  {
   "cell_type": "code",
   "execution_count": null,
   "metadata": {},
   "outputs": [],
   "source": []
  }
 ],
 "metadata": {
  "kernelspec": {
   "display_name": "Python 3",
   "language": "python",
   "name": "python3"
  },
  "language_info": {
   "codemirror_mode": {
    "name": "ipython",
    "version": 3
   },
   "file_extension": ".py",
   "mimetype": "text/x-python",
   "name": "python",
   "nbconvert_exporter": "python",
   "pygments_lexer": "ipython3",
   "version": "3.7.6"
  }
 },
 "nbformat": 4,
 "nbformat_minor": 4
}
