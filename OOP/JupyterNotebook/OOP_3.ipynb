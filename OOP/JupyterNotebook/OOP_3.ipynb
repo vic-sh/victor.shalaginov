{
 "cells": [
  {
   "cell_type": "code",
   "execution_count": 12,
   "metadata": {},
   "outputs": [
    {
     "name": "stdout",
     "output_type": "stream",
     "text": [
      "hello world\n",
      "15\n",
      "['a', 'b', 'c', 'd']\n"
     ]
    }
   ],
   "source": [
    "var = 'hello'\n",
    "var2 = ' world'\n",
    "\n",
    "#var + var2\n",
    "\n",
    "print(var.__add__(var2))\n",
    "\n",
    "var3 = 5\n",
    "var4 = 10\n",
    "\n",
    "print(var3.__add__(var4))\n",
    "\n",
    "var5 = ['a','b']\n",
    "var6 = ['c','d']\n",
    "\n",
    "print(var5.__add__(var6))"
   ]
  },
  {
   "cell_type": "code",
   "execution_count": 14,
   "metadata": {},
   "outputs": [
    {
     "name": "stdout",
     "output_type": "stream",
     "text": [
      "[101, 202, 303, 404, 505]\n"
     ]
    }
   ],
   "source": [
    "class SumList(object):\n",
    "    \n",
    "    def __init__(self, this_list):\n",
    "        self.mylist = this_list\n",
    "        \n",
    "    def __add__(self, other):\n",
    "        \n",
    "        #new_list = [x + y for x, y in zip(self.mylist, other.mylist) ]\n",
    "        #the same as string above\n",
    "        new_list = []\n",
    "        zipped_list = zip(self.mylist, other.mylist)\n",
    "        for tup in zipped_list:\n",
    "            new_list.append(tup[0]+tup[1])\n",
    "        \n",
    "        return SumList(new_list)\n",
    "    \n",
    "    def __repr__(self):\n",
    "        return str(self.mylist)\n",
    "    \n",
    "cc = SumList([1,2,3,4,5])\n",
    "dd = SumList([100,200,300,400,500])\n",
    "\n",
    "ee = cc + dd\n",
    "print(ee)\n",
    "\n"
   ]
  },
  {
   "cell_type": "code",
   "execution_count": 15,
   "metadata": {},
   "outputs": [
    {
     "name": "stdout",
     "output_type": "stream",
     "text": [
      "a = 5\n",
      "b = 6\n"
     ]
    }
   ],
   "source": [
    "class MyDict(dict):\n",
    "    pass\n",
    "\n",
    "dd = MyDict()\n",
    "dd['a'] = 5\n",
    "dd['b'] = 6\n",
    "\n",
    "for key in dd.keys():\n",
    "    print('{0} = {1}'.format(key, dd[key]))\n",
    "    "
   ]
  },
  {
   "cell_type": "code",
   "execution_count": 17,
   "metadata": {},
   "outputs": [
    {
     "name": "stdout",
     "output_type": "stream",
     "text": [
      "setting key and value\n",
      "setting key and value\n",
      "a = 5\n",
      "b = 6\n"
     ]
    }
   ],
   "source": [
    "class MyDict(dict):\n",
    "    def __setitem__(self, key, val):\n",
    "        print(\"setting key and value\")\n",
    "        dict.__setitem__(self, key, val)\n",
    "\n",
    "dd = MyDict()\n",
    "dd['a'] = 5\n",
    "dd['b'] = 6\n",
    "\n",
    "for key in dd.keys():\n",
    "    print('{0} = {1}'.format(key, dd[key]))\n",
    "    "
   ]
  },
  {
   "cell_type": "code",
   "execution_count": 2,
   "metadata": {},
   "outputs": [
    {
     "name": "stdout",
     "output_type": "stream",
     "text": [
      "['a', 'b', 'c']\n",
      "a\n",
      "spam\n"
     ]
    }
   ],
   "source": [
    "class MyList(list):\n",
    "    \n",
    "    def __getitem__(self, index):\n",
    "        if index == 0: raise IndexError\n",
    "        if index > 0: index = index - 1\n",
    "        return list.__getitem__(self, index)\n",
    "    \n",
    "    def __setitem__(self, index, value):\n",
    "        if index == 0: raise IndexError\n",
    "        if index > 0: index = index -1\n",
    "        list.__setitem__(self, index, value)\n",
    "\n",
    "x = MyList(['a', 'b', 'c'])\n",
    "\n",
    "print(x)\n",
    "\n",
    "x.append('spam')\n",
    "\n",
    "print(x[1])\n",
    "print(x[4])"
   ]
  },
  {
   "cell_type": "code",
   "execution_count": 3,
   "metadata": {},
   "outputs": [
    {
     "name": "stdout",
     "output_type": "stream",
     "text": [
      "hello\n"
     ]
    }
   ],
   "source": [
    "class MyClass(object):\n",
    "    pass\n",
    "\n",
    "x = MyClass()\n",
    "\n",
    "x.this = 'hello'\n",
    "\n",
    "print(x.this)"
   ]
  },
  {
   "cell_type": "code",
   "execution_count": 4,
   "metadata": {},
   "outputs": [
    {
     "name": "stdout",
     "output_type": "stream",
     "text": [
      "10\n",
      "100\n"
     ]
    }
   ],
   "source": [
    "class MyClass(object):\n",
    "    def set_val(self, val):\n",
    "        self.value = val\n",
    "    def get_val(self):\n",
    "        return self.value\n",
    "a = MyClass()\n",
    "b = MyClass()\n",
    "\n",
    "a.set_val(10)\n",
    "b.set_val(100)\n",
    "\n",
    "print(a.get_val())\n",
    "print(b.get_val())"
   ]
  },
  {
   "cell_type": "code",
   "execution_count": 14,
   "metadata": {},
   "outputs": [
    {
     "name": "stdout",
     "output_type": "stream",
     "text": [
      "5\n",
      "1\n",
      "setting the \"var\" attribute\n",
      "2\n",
      "getting the \"var\" attribute\n",
      "1000\n",
      "3\n",
      "deleting the \"var\" attribute\n",
      "4\n",
      "getting the \"var\" attribute\n",
      "None\n"
     ]
    }
   ],
   "source": [
    "class GetSet(object):\n",
    "    def __init__(self,value):\n",
    "        self.attrval = value\n",
    "        \n",
    "    @property\n",
    "    def var(self):\n",
    "        print('getting the \"var\" attribute')\n",
    "        return self.attrval\n",
    "    \n",
    "    @var.setter\n",
    "    def var(self, value):\n",
    "        print('setting the \"var\" attribute')\n",
    "        self.attrval = value\n",
    "        \n",
    "    @var.deleter\n",
    "    def var(self):\n",
    "        print('deleting the \"var\" attribute')\n",
    "        self.attrval = None\n",
    "    \n",
    "me = GetSet(5)\n",
    "print(me.attrval)\n",
    "print('1')\n",
    "me.var = 1000\n",
    "print('2')\n",
    "print(me.var)\n",
    "print('3')\n",
    "del(me.var)\n",
    "print('4')\n",
    "print(me.var)\n",
    "    "
   ]
  },
  {
   "cell_type": "code",
   "execution_count": 15,
   "metadata": {},
   "outputs": [
    {
     "name": "stdout",
     "output_type": "stream",
     "text": [
      "setting the \"var\" attribute\n",
      "10\n",
      "no_privacy\n"
     ]
    }
   ],
   "source": [
    "class GetSet(object):\n",
    "    \n",
    "    instance_count = 0\n",
    "    \n",
    "    __mangled_name = 'no_privacy'\n",
    "    \n",
    "    def __init__(self,value):\n",
    "        self._attrval = value\n",
    "        GetSet.instance_count += 1\n",
    "        \n",
    "    @property\n",
    "    def var(self):\n",
    "        print('getting the \"var\" attribute')\n",
    "        return self._attrval\n",
    "    \n",
    "    @var.setter\n",
    "    def var(self, value):\n",
    "        print('setting the \"var\" attribute')\n",
    "        self._attrval = value\n",
    "        \n",
    "    @var.deleter\n",
    "    def var(self):\n",
    "        print('deleting the \"var\" attribute')\n",
    "        self._attrval = None\n",
    "        \n",
    "cc = GetSet(5)\n",
    "cc.var = 10\n",
    "\n",
    "print(cc._attrval)\n",
    "print(cc._GetSet__mangled_name)"
   ]
  },
  {
   "cell_type": "code",
   "execution_count": 18,
   "metadata": {},
   "outputs": [
    {
     "ename": "FileNotFoundError",
     "evalue": "[Errno 2] No such file or directory: 'filename.txt'",
     "output_type": "error",
     "traceback": [
      "\u001b[0;31m---------------------------------------------------------------------------\u001b[0m",
      "\u001b[0;31mFileNotFoundError\u001b[0m                         Traceback (most recent call last)",
      "\u001b[0;32m<ipython-input-18-9e36c9487482>\u001b[0m in \u001b[0;36m<module>\u001b[0;34m\u001b[0m\n\u001b[0;32m----> 1\u001b[0;31m \u001b[0;32mwith\u001b[0m \u001b[0mopen\u001b[0m\u001b[0;34m(\u001b[0m\u001b[0;34m'filename.txt'\u001b[0m\u001b[0;34m)\u001b[0m \u001b[0;32mas\u001b[0m \u001b[0mfh\u001b[0m\u001b[0;34m:\u001b[0m\u001b[0;34m\u001b[0m\u001b[0;34m\u001b[0m\u001b[0m\n\u001b[0m\u001b[1;32m      2\u001b[0m     \u001b[0;32mfor\u001b[0m \u001b[0mline\u001b[0m \u001b[0;32min\u001b[0m \u001b[0mfh\u001b[0m\u001b[0;34m:\u001b[0m\u001b[0;34m\u001b[0m\u001b[0;34m\u001b[0m\u001b[0m\n\u001b[1;32m      3\u001b[0m         \u001b[0mline\u001b[0m \u001b[0;34m=\u001b[0m \u001b[0mline\u001b[0m\u001b[0;34m.\u001b[0m\u001b[0mrstrip\u001b[0m\u001b[0;34m(\u001b[0m\u001b[0;34m)\u001b[0m\u001b[0;34m\u001b[0m\u001b[0;34m\u001b[0m\u001b[0m\n\u001b[1;32m      4\u001b[0m         \u001b[0mprint\u001b[0m\u001b[0;34m(\u001b[0m\u001b[0mline\u001b[0m\u001b[0;34m)\u001b[0m\u001b[0;34m\u001b[0m\u001b[0;34m\u001b[0m\u001b[0m\n\u001b[1;32m      5\u001b[0m \u001b[0;34m\u001b[0m\u001b[0m\n",
      "\u001b[0;31mFileNotFoundError\u001b[0m: [Errno 2] No such file or directory: 'filename.txt'"
     ]
    }
   ],
   "source": [
    "with open('filename.txt') as fh:\n",
    "    for line in fh:\n",
    "        line = line.rstrip()\n",
    "        print(line)\n",
    "\n",
    "fh = open('filename.txt')\n",
    "for line in fh:\n",
    "    print(line)\n",
    "fh.close()"
   ]
  },
  {
   "cell_type": "code",
   "execution_count": 20,
   "metadata": {},
   "outputs": [
    {
     "name": "stdout",
     "output_type": "stream",
     "text": [
      "<class '__main__.OldClass'>\n",
      "<class '__main__.NewClass'>\n",
      "<class '__main__.OldClass'>\n"
     ]
    }
   ],
   "source": [
    "#new vs old style classes\n",
    "\n",
    "#old style\n",
    "class OldClass():\n",
    "    pass\n",
    "\n",
    "#new style\n",
    "class NewClass(object):\n",
    "    pass\n",
    "\n",
    "oc = OldClass()\n",
    "\n",
    "nc = NewClass()\n",
    "\n",
    "print(type(oc))\n",
    "print(type(nc))\n",
    "\n",
    "print(oc.__class__)"
   ]
  },
  {
   "cell_type": "code",
   "execution_count": null,
   "metadata": {},
   "outputs": [],
   "source": []
  }
 ],
 "metadata": {
  "kernelspec": {
   "display_name": "Python 3",
   "language": "python",
   "name": "python3"
  },
  "language_info": {
   "codemirror_mode": {
    "name": "ipython",
    "version": 3
   },
   "file_extension": ".py",
   "mimetype": "text/x-python",
   "name": "python",
   "nbconvert_exporter": "python",
   "pygments_lexer": "ipython3",
   "version": "3.7.6"
  }
 },
 "nbformat": 4,
 "nbformat_minor": 4
}
